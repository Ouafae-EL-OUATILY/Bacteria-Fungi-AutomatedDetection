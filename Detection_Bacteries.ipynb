{
  "nbformat": 4,
  "nbformat_minor": 0,
  "metadata": {
    "colab": {
      "provenance": [],
      "gpuType": "T4"
    },
    "kernelspec": {
      "name": "python3",
      "display_name": "Python 3"
    },
    "language_info": {
      "name": "python"
    },
    "accelerator": "GPU"
  },
  "cells": [
    {
      "cell_type": "code",
      "source": [
        "import os\n",
        "import pandas as pd\n",
        "import numpy as np\n",
        "from PIL import Image\n",
        "import tensorflow as tf\n",
        "from tensorflow.keras.preprocessing.image import ImageDataGenerator, img_to_array\n",
        "from tensorflow.keras.applications.resnet50 import preprocess_input\n",
        "from sklearn.preprocessing import LabelEncoder\n",
        "from sklearn.model_selection import train_test_split\n"
      ],
      "metadata": {
        "id": "-5soTIChZqqZ"
      },
      "execution_count": null,
      "outputs": []
    },
    {
      "cell_type": "code",
      "source": [
        "# Load data from the CSV file\n",
        "data = pd.read_csv('/content/drive/MyDrive/Bacteria__Caracteristics.csv')"
      ],
      "metadata": {
        "id": "_amYYIL5c4Iq"
      },
      "execution_count": null,
      "outputs": []
    },
    {
      "cell_type": "code",
      "source": [
        "# Load & preprocess the image\n",
        "def load_and_preprocess_image(image_path):\n",
        "    image = Image.open(image_path)\n",
        "    image = image.resize((224, 224))\n",
        "    image = img_to_array(image)\n",
        "    image = preprocess_input(image)\n",
        "    return image"
      ],
      "metadata": {
        "id": "CcDqzhKpc7DQ"
      },
      "execution_count": null,
      "outputs": []
    },
    {
      "cell_type": "code",
      "source": [
        "from google.colab import drive\n",
        "drive.mount('/content/drive')"
      ],
      "metadata": {
        "colab": {
          "base_uri": "https://localhost:8080/"
        },
        "id": "S3GIZbSaqF-l",
        "outputId": "9c0f2604-200a-4911-ec2f-192f20d14256"
      },
      "execution_count": null,
      "outputs": [
        {
          "output_type": "stream",
          "name": "stdout",
          "text": [
            "Drive already mounted at /content/drive; to attempt to forcibly remount, call drive.mount(\"/content/drive\", force_remount=True).\n"
          ]
        }
      ]
    },
    {
      "cell_type": "markdown",
      "source": [],
      "metadata": {
        "id": "0AvqaDrp3Em4"
      }
    },
    {
      "cell_type": "code",
      "source": [
        "# Define the image directory path\n",
        "image_dir = '/content/drive/MyDrive/Bacillus'"
      ],
      "metadata": {
        "id": "eNgmBA6Sc9uc"
      },
      "execution_count": null,
      "outputs": []
    },
    {
      "cell_type": "code",
      "source": [
        "# Load images and labels(classes)\n",
        "images = []\n",
        "labels = []\n",
        "for class_name in os.listdir(image_dir):\n",
        "    class_dir = os.path.join(image_dir, class_name)\n",
        "    for image_filename in os.listdir(class_dir):\n",
        "        image_path = os.path.join(class_dir, image_filename)\n",
        "        images.append(load_and_preprocess_image(image_path))\n",
        "        labels.append(class_name)"
      ],
      "metadata": {
        "id": "JNa79Kg1g1m6"
      },
      "execution_count": null,
      "outputs": []
    },
    {
      "cell_type": "code",
      "source": [
        "# Encode the target labels (bacteria classes)\n",
        "label_encoder = LabelEncoder()\n",
        "y = label_encoder.fit_transform(labels)"
      ],
      "metadata": {
        "id": "S07FI2gJg5Vn"
      },
      "execution_count": null,
      "outputs": []
    },
    {
      "cell_type": "code",
      "source": [
        "from tensorflow.keras.preprocessing.image import load_img, img_to_array\n",
        "\n",
        "# Define the path to the directory containing the images for each class\n",
        "class_dirs = ['/content/drive/MyDrive/Bacillus/Bacillus mycoides--aspect macroscopique', '/content/drive/MyDrive/Bacillus/Bacillus mycoides--aspect microscopique', '/content/drive/MyDrive/Bacillus/Bacillus subtilis--aspect macroscopique', '/content/drive/MyDrive/Bacillus/Bacillus subtilis--aspect microscopique']"
      ],
      "metadata": {
        "id": "nE7_Ol_OhCZP"
      },
      "execution_count": null,
      "outputs": []
    },
    {
      "cell_type": "code",
      "source": [
        "# Load images and bacterial characteristics\n",
        "images = []\n",
        "bacteria_labels = []\n",
        "\n",
        "for i, class_dir in enumerate(class_dirs):\n",
        "    class_name = label_encoder.classes_[i]\n",
        "    class_images = [os.path.join(class_dir, filename) for filename in os.listdir(class_dir)]\n",
        "    class_bacteria_labels = [class_name] * len(class_images)\n",
        "    images.extend(class_images)\n",
        "    bacteria_labels.extend(class_bacteria_labels)"
      ],
      "metadata": {
        "id": "M0HKuy5WiH-3"
      },
      "execution_count": null,
      "outputs": []
    },
    {
      "cell_type": "code",
      "source": [
        "# Load and preprocess images\n",
        "images = [load_and_preprocess_image(image_path) for image_path in images]"
      ],
      "metadata": {
        "id": "c9dBPQUuiL9c"
      },
      "execution_count": null,
      "outputs": []
    },
    {
      "cell_type": "code",
      "source": [
        "   # Encode bacteria classes\n",
        "label_encoder = LabelEncoder()\n",
        "y = label_encoder.fit_transform(data['Bacterie'])"
      ],
      "metadata": {
        "id": "6As1Jna2iPoC"
      },
      "execution_count": null,
      "outputs": []
    },
    {
      "cell_type": "code",
      "source": [
        "\n",
        "# Loading from csv\n",
        "bacteria_features = data.drop(['Bacterie'], axis=1).values\n",
        "bacteria_features = np.array([[1 if value == 'p' else 0 for value in row] for row in bacteria_features])"
      ],
      "metadata": {
        "id": "Am_wE-bAiTDh"
      },
      "execution_count": null,
      "outputs": []
    },
    {
      "cell_type": "code",
      "source": [
        "print(\"Number of images:\", len(images))   #check dossier des images\n",
        "print(\"Number of bacteria features:\", len(bacteria_features))   #File csv\n",
        "print(\"Number of labels:\", len(y))       #classes"
      ],
      "metadata": {
        "colab": {
          "base_uri": "https://localhost:8080/"
        },
        "id": "R5EgLf5yfcvf",
        "outputId": "86bb6cef-6ffa-40e9-ae48-db1339a03cee"
      },
      "execution_count": null,
      "outputs": [
        {
          "output_type": "stream",
          "name": "stdout",
          "text": [
            "Number of images: 52\n",
            "Number of bacteria features: 52\n",
            "Number of labels: 52\n"
          ]
        }
      ]
    },
    {
      "cell_type": "code",
      "source": [
        "# Split data into training and test sets\n",
        "X_train_img, X_test_img, X_train_feat, X_test_feat, y_train, y_test = train_test_split(images, bacteria_features, y, test_size=0.2, random_state=42)"
      ],
      "metadata": {
        "id": "s6f82l5enZ3m"
      },
      "execution_count": null,
      "outputs": []
    },
    {
      "cell_type": "code",
      "source": [
        "# Load the pre-trained ResNet50 model\n",
        "model = tf.keras.applications.ResNet50(weights='imagenet', include_top=False, input_shape=(224, 224, 3))\n"
      ],
      "metadata": {
        "id": "Bz32KGezoA3n"
      },
      "execution_count": null,
      "outputs": []
    },
    {
      "cell_type": "code",
      "source": [
        "# Add a global average pooling layer and a dense layer for predictions\n",
        "x = model.output\n",
        "x = tf.keras.layers.GlobalAveragePooling2D()(x)\n",
        "bacteria_input = tf.keras.layers.Input(shape=(9,))  # Assuming you have 9 bacterial characteristics\n",
        "combined = tf.keras.layers.concatenate([x, bacteria_input])\n",
        "predictions = tf.keras.layers.Dense(len(label_encoder.classes_), activation='softmax')(combined)\n",
        "custom_model = tf.keras.Model(inputs=[model.input, bacteria_input], outputs=predictions)\n"
      ],
      "metadata": {
        "id": "dP8u1X2toEc6"
      },
      "execution_count": null,
      "outputs": []
    },
    {
      "cell_type": "code",
      "source": [
        "# Compile the model\n",
        "custom_model.compile(optimizer='adam', loss='sparse_categorical_crossentropy', metrics=['accuracy'])"
      ],
      "metadata": {
        "id": "-iwFq9GCoHkc"
      },
      "execution_count": null,
      "outputs": []
    },
    {
      "cell_type": "code",
      "source": [
        "# Combine image and feature data\n",
        "X_train_combined = [(img, feat) for img, feat in zip(X_train_img, X_train_feat)]\n",
        "\n",
        "# Create data generator for training\n",
        "def generator():\n",
        "    while True:\n",
        "        for i in range(0, len(X_train_combined), batch_size):\n",
        "            batch = X_train_combined[i:i + batch_size]\n",
        "            X_batch_img = np.array([item[0] for item in batch])\n",
        "            X_batch_feat = np.array([item[1] for item in batch])\n",
        "            y_batch = y_train[i:i + batch_size]\n",
        "            yield ([X_batch_img, X_batch_feat], y_batch)\n",
        "\n",
        "batch_size = 32\n",
        "train_steps_per_epoch = len(X_train_combined) // batch_size\n",
        "\n",
        "train_generator = generator()\n"
      ],
      "metadata": {
        "id": "kGQBFY5LoKa6"
      },
      "execution_count": null,
      "outputs": []
    },
    {
      "cell_type": "code",
      "source": [
        "# Combine image and feature data for validation\n",
        "X_validation_combined = [(img, feat) for img, feat in zip(X_test_img, X_test_feat)]\n",
        "\n",
        "# Create data generator for validation\n",
        "def validation_generator():\n",
        "    while True:\n",
        "        for i in range(0, len(X_validation_combined), batch_size):\n",
        "            batch = X_validation_combined[i:i + batch_size]\n",
        "            X_batch_img = np.array([item[0] for item in batch])\n",
        "            X_batch_feat = np.array([item[1] for item in batch])\n",
        "            y_batch = y_test[i:i + batch_size]\n",
        "            yield ([X_batch_img, X_batch_feat], y_batch)\n",
        "\n",
        "validation_generator = validation_generator()\n"
      ],
      "metadata": {
        "id": "x1wIt2h_oNVj"
      },
      "execution_count": null,
      "outputs": []
    },
    {
      "cell_type": "code",
      "source": [
        "custom_model.fit(train_generator, steps_per_epoch=train_steps_per_epoch, epochs=7)\n",
        "\n",
        "\n",
        "# Save the model\n",
        "custom_model.save('/content/drive/MyDrive/Custom_Model.h5')\n",
        "\n",
        "# charger le modele\n",
        "loaded_model = tf.keras.models.load_model('/content/drive/MyDrive/Custom_Model.h5')\n"
      ],
      "metadata": {
        "id": "42KagvjhoTSw",
        "colab": {
          "base_uri": "https://localhost:8080/"
        },
        "outputId": "4cb05401-20dd-4454-ac2b-fdd12afc7de7"
      },
      "execution_count": null,
      "outputs": [
        {
          "output_type": "stream",
          "name": "stdout",
          "text": [
            "Epoch 1/7\n",
            "1/1 [==============================] - 43s 43s/step - loss: 4.5765 - accuracy: 0.0625\n",
            "Epoch 2/7\n",
            "1/1 [==============================] - 0s 171ms/step - loss: 5.6078 - accuracy: 0.0000e+00\n",
            "Epoch 3/7\n",
            "1/1 [==============================] - 0s 346ms/step - loss: 0.2932 - accuracy: 0.9375\n",
            "Epoch 4/7\n",
            "1/1 [==============================] - 0s 119ms/step - loss: 0.0624 - accuracy: 1.0000\n",
            "Epoch 5/7\n",
            "1/1 [==============================] - 0s 325ms/step - loss: 0.1080 - accuracy: 0.9688\n",
            "Epoch 6/7\n",
            "1/1 [==============================] - 0s 117ms/step - loss: 0.0075 - accuracy: 1.0000\n",
            "Epoch 7/7\n",
            "1/1 [==============================] - 0s 325ms/step - loss: 0.0190 - accuracy: 1.0000\n"
          ]
        }
      ]
    },
    {
      "cell_type": "code",
      "source": [
        "# Load and preprocess the test image\n",
        "test_image_path = '/content/drive/MyDrive/Bacillus/Bacillus mycoides--aspect microscopique/image7.jpg'\n",
        "test_image = load_and_preprocess_image(test_image_path)\n"
      ],
      "metadata": {
        "id": "UOITrESMoXQ9"
      },
      "execution_count": null,
      "outputs": []
    },
    {
      "cell_type": "code",
      "source": [
        "# Load characteristics from csv file\n",
        "import os\n",
        "import numpy as np\n",
        "\n",
        "test_image_path_normalized = os.path.normpath(test_image_path)  # Normalisation\n",
        "test_bacteria_row = data[data['Bacterie'] == test_image_path_normalized]\n",
        "\n",
        "if not test_bacteria_row.empty:\n",
        "    test_bacteria_row_index = test_bacteria_row.index\n",
        "    data.loc[test_bacteria_row_index, 'Bacterie'] = test_image_path_normalized\n",
        "    test_bacteria_features = data.loc[test_bacteria_row_index].drop(['Bacterie'], axis=1).values\n",
        "    test_bacteria_features = np.where(test_bacteria_features == 'p', 1, 0)\n",
        "\n",
        "else:\n",
        "    print(f\"No data found for image '{test_image_path_normalized}'.\")\n"
      ],
      "metadata": {
        "id": "P77eBcZcoaSd"
      },
      "execution_count": null,
      "outputs": []
    },
    {
      "cell_type": "code",
      "source": [
        "test_image_filename = os.path.basename(test_image_path)\n",
        "test_bacteria_row = data[data['Bacterie'].str.strip() == test_image_filename]\n",
        "test_bacteria_row = data[data['Bacterie'].str.contains(test_image_filename, regex=False)]\n",
        "test_bacteria_row = data[data['Bacterie'].astype(str) == str(test_image_filename)]\n",
        "\n",
        "for value in data['Bacterie']:\n",
        "    print(f\"Comparing: '{value}' with '{test_image_filename}': {value == test_image_filename}\")\n",
        "test_bacteria_row = data[data['Bacterie'].str.split('/').str[-1] == test_image_filename]\n",
        "\n"
      ],
      "metadata": {
        "colab": {
          "base_uri": "https://localhost:8080/"
        },
        "id": "saXAawUTtx0m",
        "outputId": "16e211cb-a9ad-4a59-f267-d98988a4265b"
      },
      "execution_count": null,
      "outputs": [
        {
          "output_type": "stream",
          "name": "stdout",
          "text": [
            "Comparing: '/content/drive/MyDrive/Bacillus/Bacillus mycoides--aspect macroscopique/download01.jpg' with 'image7.jpg': False\n",
            "Comparing: '/content/drive/MyDrive/Bacillus/Bacillus mycoides--aspect macroscopique/download1.jpg' with 'image7.jpg': False\n",
            "Comparing: '/content/drive/MyDrive/Bacillus/Bacillus mycoides--aspect macroscopique/download2.jpg' with 'image7.jpg': False\n",
            "Comparing: '/content/drive/MyDrive/Bacillus/Bacillus mycoides--aspect macroscopique/download3.jpg' with 'image7.jpg': False\n",
            "Comparing: '/content/drive/MyDrive/Bacillus/Bacillus mycoides--aspect macroscopique/download4.jpg' with 'image7.jpg': False\n",
            "Comparing: '/content/drive/MyDrive/Bacillus/Bacillus mycoides--aspect macroscopique/download5.jpg' with 'image7.jpg': False\n",
            "Comparing: '/content/drive/MyDrive/Bacillus/Bacillus mycoides--aspect macroscopique/download6.jpg' with 'image7.jpg': False\n",
            "Comparing: '/content/drive/MyDrive/Bacillus/Bacillus mycoides--aspect macroscopique/download7.jpg' with 'image7.jpg': False\n",
            "Comparing: '/content/drive/MyDrive/Bacillus/Bacillus mycoides--aspect macroscopique/image11.jpg' with 'image7.jpg': False\n",
            "Comparing: '/content/drive/MyDrive/Bacillus/Bacillus mycoides--aspect macroscopique/image12.jpg' with 'image7.jpg': False\n",
            "Comparing: '/content/drive/MyDrive/Bacillus/Bacillus mycoides--aspect macroscopique/image3.jpg' with 'image7.jpg': False\n",
            "Comparing: '/content/drive/MyDrive/Bacillus/Bacillus mycoides--aspect macroscopique/image7.jpg' with 'image7.jpg': False\n",
            "Comparing: '/content/drive/MyDrive/Bacillus/Bacillus mycoides--aspect macroscopique/images--.jpg' with 'image7.jpg': False\n",
            "Comparing: '/content/drive/MyDrive/Bacillus/Bacillus mycoides--aspect macroscopique/images.jpg' with 'image7.jpg': False\n",
            "Comparing: '/content/drive/MyDrive/Bacillus/Bacillus mycoides--aspect microscopique/image1.jpg' with 'image7.jpg': False\n",
            "Comparing: '/content/drive/MyDrive/Bacillus/Bacillus mycoides--aspect microscopique/image10.jpg' with 'image7.jpg': False\n",
            "Comparing: '/content/drive/MyDrive/Bacillus/Bacillus mycoides--aspect microscopique/image2.jpg' with 'image7.jpg': False\n",
            "Comparing: '/content/drive/MyDrive/Bacillus/Bacillus mycoides--aspect microscopique/image4.jpg' with 'image7.jpg': False\n",
            "Comparing: '/content/drive/MyDrive/Bacillus/Bacillus mycoides--aspect microscopique/image5.jpg' with 'image7.jpg': False\n",
            "Comparing: '/content/drive/MyDrive/Bacillus/Bacillus mycoides--aspect microscopique/image6.jpg' with 'image7.jpg': False\n",
            "Comparing: '/content/drive/MyDrive/Bacillus/Bacillus mycoides--aspect microscopique/image7.jpg' with 'image7.jpg': False\n",
            "Comparing: '/content/drive/MyDrive/Bacillus/Bacillus mycoides--aspect microscopique/imagee.jpg' with 'image7.jpg': False\n",
            "Comparing: '/content/drive/MyDrive/Bacillus/Bacillus subtilis--aspect macroscopique/image---.jpg' with 'image7.jpg': False\n",
            "Comparing: '/content/drive/MyDrive/Bacillus/Bacillus subtilis--aspect macroscopique/image__.jpg' with 'image7.jpg': False\n",
            "Comparing: '/content/drive/MyDrive/Bacillus/Bacillus subtilis--aspect macroscopique/imageee.jpg' with 'image7.jpg': False\n",
            "Comparing: '/content/drive/MyDrive/Bacillus/Bacillus subtilis--aspect macroscopique/images++.jpg' with 'image7.jpg': False\n",
            "Comparing: '/content/drive/MyDrive/Bacillus/Bacillus subtilis--aspect macroscopique/images-----w.jpg' with 'image7.jpg': False\n",
            "Comparing: '/content/drive/MyDrive/Bacillus/Bacillus subtilis--aspect macroscopique/images1.jpg' with 'image7.jpg': False\n",
            "Comparing: '/content/drive/MyDrive/Bacillus/Bacillus subtilis--aspect macroscopique/images2.jpg' with 'image7.jpg': False\n",
            "Comparing: '/content/drive/MyDrive/Bacillus/Bacillus subtilis--aspect macroscopique/images3.jpg' with 'image7.jpg': False\n",
            "Comparing: '/content/drive/MyDrive/Bacillus/Bacillus subtilis--aspect macroscopique/images4.jpg' with 'image7.jpg': False\n",
            "Comparing: '/content/drive/MyDrive/Bacillus/Bacillus subtilis--aspect macroscopique/images5.jpg' with 'image7.jpg': False\n",
            "Comparing: '/content/drive/MyDrive/Bacillus/Bacillus subtilis--aspect macroscopique/images6.jpg' with 'image7.jpg': False\n",
            "Comparing: '/content/drive/MyDrive/Bacillus/Bacillus subtilis--aspect macroscopique/images7.jpg' with 'image7.jpg': False\n",
            "Comparing: '/content/drive/MyDrive/Bacillus/Bacillus subtilis--aspect macroscopique/imagesss.jpg' with 'image7.jpg': False\n",
            "Comparing: '/content/drive/MyDrive/Bacillus/Bacillus subtilis--aspect microscopique/download1.jpg' with 'image7.jpg': False\n",
            "Comparing: '/content/drive/MyDrive/Bacillus/Bacillus subtilis--aspect microscopique/download2.jpg' with 'image7.jpg': False\n",
            "Comparing: '/content/drive/MyDrive/Bacillus/Bacillus subtilis--aspect microscopique/download3.jpg' with 'image7.jpg': False\n",
            "Comparing: '/content/drive/MyDrive/Bacillus/Bacillus subtilis--aspect microscopique/download4.jpg' with 'image7.jpg': False\n",
            "Comparing: '/content/drive/MyDrive/Bacillus/Bacillus subtilis--aspect microscopique/gettyimages-1348103459-640x640.jpg' with 'image7.jpg': False\n",
            "Comparing: '/content/drive/MyDrive/Bacillus/Bacillus subtilis--aspect microscopique/images00.jpg' with 'image7.jpg': False\n",
            "Comparing: '/content/drive/MyDrive/Bacillus/Bacillus subtilis--aspect microscopique/images1.jpg' with 'image7.jpg': False\n",
            "Comparing: '/content/drive/MyDrive/Bacillus/Bacillus subtilis--aspect microscopique/images2.jpg' with 'image7.jpg': False\n",
            "Comparing: '/content/drive/MyDrive/Bacillus/Bacillus subtilis--aspect microscopique/images3.jpg' with 'image7.jpg': False\n",
            "Comparing: '/content/drive/MyDrive/Bacillus/Bacillus subtilis--aspect microscopique/images4.jpg' with 'image7.jpg': False\n",
            "Comparing: '/content/drive/MyDrive/Bacillus/Bacillus subtilis--aspect microscopique/images5.jpg' with 'image7.jpg': False\n",
            "Comparing: '/content/drive/MyDrive/Bacillus/Bacillus subtilis--aspect microscopique/images6.jpg' with 'image7.jpg': False\n",
            "Comparing: '/content/drive/MyDrive/Bacillus/Bacillus subtilis--aspect microscopique/images7.jpg' with 'image7.jpg': False\n",
            "Comparing: '/content/drive/MyDrive/Bacillus/Bacillus subtilis--aspect microscopique/images8.jpg' with 'image7.jpg': False\n",
            "Comparing: '/content/drive/MyDrive/Bacillus/Bacillus subtilis--aspect microscopique/images88.jpg' with 'image7.jpg': False\n",
            "Comparing: '/content/drive/MyDrive/Bacillus/Bacillus subtilis--aspect microscopique/images9.jpg' with 'image7.jpg': False\n",
            "Comparing: '/content/drive/MyDrive/Bacillus/Bacillus subtilis--aspect microscopique/images99.jpg' with 'image7.jpg': False\n"
          ]
        }
      ]
    },
    {
      "cell_type": "code",
      "source": [
        "print(\"Provided Test Image Filename:\", test_image_filename)\n",
        "print(\"Matching Rows in DataFrame:\")\n",
        "print(bacteria_features)\n"
      ],
      "metadata": {
        "colab": {
          "base_uri": "https://localhost:8080/"
        },
        "id": "PhMqP_Xziofq",
        "outputId": "66e815da-5556-4fc4-966b-7df7a0875222"
      },
      "execution_count": null,
      "outputs": [
        {
          "output_type": "stream",
          "name": "stdout",
          "text": [
            "Provided Test Image Filename: image7.jpg\n",
            "Matching Rows in DataFrame:\n",
            "[[1 1 0 0 1 1 1 1 1]\n",
            " [1 1 0 0 1 1 1 1 1]\n",
            " [1 1 0 0 1 1 1 1 1]\n",
            " [1 1 0 0 1 1 1 1 1]\n",
            " [1 1 0 0 1 1 1 1 1]\n",
            " [1 1 0 0 1 1 1 1 1]\n",
            " [1 1 0 0 1 1 1 1 1]\n",
            " [1 1 0 0 1 1 1 1 1]\n",
            " [1 1 0 0 1 1 1 1 1]\n",
            " [1 1 0 0 1 1 1 1 1]\n",
            " [1 1 0 0 1 1 1 1 1]\n",
            " [1 1 0 0 1 1 1 1 1]\n",
            " [1 1 0 0 1 1 1 1 1]\n",
            " [1 1 0 0 1 1 1 1 1]\n",
            " [1 1 0 0 1 1 1 1 1]\n",
            " [1 1 0 0 1 1 1 1 1]\n",
            " [1 1 0 0 1 1 1 1 1]\n",
            " [1 1 0 0 1 1 1 1 1]\n",
            " [1 1 0 0 1 1 1 1 1]\n",
            " [1 1 0 0 1 1 1 1 1]\n",
            " [1 1 0 0 1 1 1 1 1]\n",
            " [1 1 0 0 1 1 1 1 1]\n",
            " [1 1 1 1 1 1 0 1 0]\n",
            " [1 1 1 1 1 1 0 1 0]\n",
            " [1 1 1 1 1 1 0 1 0]\n",
            " [1 1 1 1 1 1 0 1 0]\n",
            " [1 1 1 1 1 1 0 1 0]\n",
            " [1 1 1 1 1 1 0 1 0]\n",
            " [1 1 1 1 1 1 0 1 0]\n",
            " [1 1 1 1 1 1 0 1 0]\n",
            " [1 1 1 1 1 1 0 1 0]\n",
            " [1 1 1 1 1 1 0 1 0]\n",
            " [1 1 1 1 1 1 0 1 0]\n",
            " [1 1 1 1 1 1 0 1 0]\n",
            " [1 1 1 1 1 1 0 1 0]\n",
            " [1 1 1 1 1 1 0 1 0]\n",
            " [1 1 1 1 1 1 0 1 0]\n",
            " [1 1 1 1 1 1 0 1 0]\n",
            " [1 1 1 1 1 1 0 1 0]\n",
            " [1 1 1 1 1 1 0 1 0]\n",
            " [1 1 1 1 1 1 0 1 0]\n",
            " [1 1 1 1 1 1 0 1 0]\n",
            " [1 1 1 1 1 1 0 1 0]\n",
            " [1 1 1 1 1 1 0 1 0]\n",
            " [1 1 1 1 1 1 0 1 0]\n",
            " [1 1 1 1 1 1 0 1 0]\n",
            " [1 1 1 1 1 1 0 1 0]\n",
            " [1 1 1 1 1 1 0 1 0]\n",
            " [1 1 1 1 1 1 0 1 0]\n",
            " [1 1 1 1 1 1 0 1 0]\n",
            " [1 1 1 1 1 1 0 1 0]\n",
            " [1 1 1 1 1 1 0 1 0]]\n"
          ]
        }
      ]
    },
    {
      "cell_type": "code",
      "source": [
        "# predicted_probs = loaded_model.predict([np.array([test_image]), test_bacteria_features])\n",
        "# predicted_class_index = np.argmax(predicted_probs, axis=-1)\n",
        "\n",
        "#---------fonction de prediction\n",
        "def predict_image(test_image, test_bacteria_features, Custom_Model, bacteria_name):\n",
        "    predicted_probs = Custom_Model.predict([np.array([test_image]), test_bacteria_features])\n",
        "    predicted_class_index = np.argmax(predicted_probs, axis=-1)\n",
        "    predicted_class_name = label_encoder.classes_[predicted_class_index]\n",
        "\n",
        "    return predicted_class_name\n",
        "\n"
      ],
      "metadata": {
        "id": "N3pUTwl1odcm"
      },
      "execution_count": null,
      "outputs": []
    },
    {
      "cell_type": "code",
      "source": [
        "# Calling function\n",
        "bacteria_name = test_image_path.split('/')[5]  # Extract bacteria name from the image path 5eme champs\n",
        "predicted_class_index = predict_image(test_image, test_bacteria_features, loaded_model, bacteria_name)"
      ],
      "metadata": {
        "id": "dmKRGpIVogcR",
        "colab": {
          "base_uri": "https://localhost:8080/"
        },
        "outputId": "e6e3cda4-af61-43fe-dc7e-620f19eda357"
      },
      "execution_count": null,
      "outputs": [
        {
          "output_type": "stream",
          "name": "stdout",
          "text": [
            "1/1 [==============================] - 1s 906ms/step\n"
          ]
        }
      ]
    },
    {
      "cell_type": "code",
      "source": [
        "#affichage\n",
        "print(f\"la bactérie prédite est: {bacteria_name}\")"
      ],
      "metadata": {
        "colab": {
          "base_uri": "https://localhost:8080/"
        },
        "id": "h8sb8c5ulTMF",
        "outputId": "b17c76d6-d9ae-4633-b22a-465e9322eb64"
      },
      "execution_count": null,
      "outputs": [
        {
          "output_type": "stream",
          "name": "stdout",
          "text": [
            "la bactérie prédite est: Bacillus mycoides--aspect microscopique\n"
          ]
        }
      ]
    },
    {
      "cell_type": "code",
      "source": [],
      "metadata": {
        "id": "FsHSBX5y7jbk"
      },
      "execution_count": null,
      "outputs": []
    }
  ]
}